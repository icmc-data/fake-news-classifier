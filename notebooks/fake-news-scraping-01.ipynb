{
  "nbformat": 4,
  "nbformat_minor": 0,
  "metadata": {
    "colab": {
      "provenance": [],
      "gpuType": "T4"
    },
    "kernelspec": {
      "name": "python3",
      "display_name": "Python 3"
    },
    "language_info": {
      "name": "python"
    },
    "accelerator": "GPU"
  },
  "cells": [
    {
      "cell_type": "code",
      "source": [
        "import pandas as pd\n",
        "import matplotlib.pyplot as plt\n",
        "import numpy as np\n",
        "import itertools"
      ],
      "metadata": {
        "id": "BiA3nTTLWmcp"
      },
      "execution_count": null,
      "outputs": []
    },
    {
      "cell_type": "code",
      "source": [
        "from google.colab import drive\n",
        "drive.mount('/content/drive/')\n",
        "\n",
        "meu_dir = '/content/drive/MyDrive/Colab Notebooks/DATA/'"
      ],
      "metadata": {
        "id": "t0mVI9QuAVAT",
        "colab": {
          "base_uri": "https://localhost:8080/"
        },
        "outputId": "b08e969b-bfbf-4a31-8d3b-f8cdf8038640"
      },
      "execution_count": null,
      "outputs": [
        {
          "output_type": "stream",
          "name": "stdout",
          "text": [
            "Mounted at /content/drive/\n"
          ]
        }
      ]
    },
    {
      "cell_type": "code",
      "source": [
        "# fakebr & fcn\n",
        "df = pd.read_pickle(meu_dir+'news.pkl')"
      ],
      "metadata": {
        "id": "EWRCImc0Xvmu"
      },
      "execution_count": null,
      "outputs": []
    },
    {
      "cell_type": "code",
      "source": [
        "df.tail()"
      ],
      "metadata": {
        "colab": {
          "base_uri": "https://localhost:8080/",
          "height": 545
        },
        "id": "j7HjEERE3MXH",
        "outputId": "cc91b367-ed31-4dfc-b195-99d4782ec444"
      },
      "execution_count": null,
      "outputs": [
        {
          "output_type": "execute_result",
          "data": {
            "text/plain": [
              "                        index  \\\n",
              "9255   Br.Corpus/true/165.txt   \n",
              "9256  Br.Corpus/true/3523.txt   \n",
              "9257  Br.Corpus/true/2363.txt   \n",
              "9258   Br.Corpus/true/186.txt   \n",
              "9259   Br.Corpus/true/402.txt   \n",
              "\n",
              "                                                   text class fold  \\\n",
              "9255  pf envia perguntas temer sobre suspeita de pro...     0   -1   \n",
              "9256  se dependesse só dele mesmo deputado jair bols...     0   -1   \n",
              "9257  ataque terrorista deixa mortos e feridos em ba...     0   -1   \n",
              "9258  suzane richthofen e anna carolina jatobá são l...     0   -1   \n",
              "9259  adolescente suspeito de ser curador jogo balei...     0   -1   \n",
              "\n",
              "                                               features  \\\n",
              "9255  [17.0, 7.0, 23.0, 19.0, 4.0, 70.0, 6.0, 7.0, 2...   \n",
              "9256  [33.0, 25.0, 100.0, 32.0, 5.0, 171.0, 30.0, 25...   \n",
              "9257  [10.0, 8.0, 30.0, 18.0, 14.0, 57.0, 7.0, 4.0, ...   \n",
              "9258  [4.0, 2.0, 11.0, 11.0, 3.0, 39.0, 7.0, 3.0, 14...   \n",
              "9259  [10.0, 11.0, 15.0, 9.0, 3.0, 44.0, 2.0, 2.0, 1...   \n",
              "\n",
              "                                    features_normalized  \\\n",
              "9255  [0.0909090909090909, 0.07526881720430108, 0.06...   \n",
              "9256  [0.1764705882352941, 0.2688172043010753, 0.293...   \n",
              "9257  [0.053475935828877004, 0.08602150537634409, 0....   \n",
              "9258  [0.0213903743315508, 0.021505376344086027, 0.0...   \n",
              "9259  [0.053475935828877004, 0.11827956989247312, 0....   \n",
              "\n",
              "                                 DistilBERT Multilingua  \\\n",
              "9255  [0.014514356, 0.008530656, 0.03846555, -0.0099...   \n",
              "9256  [-0.03749506, -0.033387117, 0.05065934, -0.028...   \n",
              "9257  [-0.024948822, -0.037642844, -0.022688061, -0....   \n",
              "9258  [-0.013970567, 0.018637374, 0.055494092, -0.01...   \n",
              "9259  [-0.012026974, -0.012726929, -0.015827581, -0....   \n",
              "\n",
              "                                                   BERT  \\\n",
              "9255  [-0.20193985, -0.5226437, 0.46868336, -0.00350...   \n",
              "9256  [0.3731324, -0.3448258, 0.7404749, 0.22368652,...   \n",
              "9257  [-0.05710221, -0.13587737, 0.6859786, 0.574700...   \n",
              "9258  [0.37800026, -0.09586002, 0.9392674, 0.1973950...   \n",
              "9259  [0.27077848, -0.0785435, 0.6093684, 0.60272044...   \n",
              "\n",
              "                                             DistilBERT  \\\n",
              "9255  [-0.36339742, 0.7857486, 0.051166058, -0.64756...   \n",
              "9256  [-0.7858868, 0.51153785, 0.0869052, -0.5411864...   \n",
              "9257  [-0.35180303, 0.7982135, 0.05511549, -0.741719...   \n",
              "9258  [-0.40225852, 0.8388919, -0.21161911, -0.59834...   \n",
              "9259  [-0.88760316, 0.43419886, -0.4410904, -0.74014...   \n",
              "\n",
              "                                                RoBERTa  \n",
              "9255  [0.3042544, 1.0563827, -0.39549202, -0.3821118...  \n",
              "9256  [0.44987923, 0.14891791, 0.31082582, -1.051976...  \n",
              "9257  [0.15009603, 1.1909198, -0.1610699, -0.6711221...  \n",
              "9258  [0.70413524, -0.10781592, -0.22003835, -0.0840...  \n",
              "9259  [1.8870502, 0.31321263, 0.09041721, -0.5619377...  "
            ],
            "text/html": [
              "\n",
              "  <div id=\"df-4b099c58-c16d-4aff-80bc-3f9e669556e7\">\n",
              "    <div class=\"colab-df-container\">\n",
              "      <div>\n",
              "<style scoped>\n",
              "    .dataframe tbody tr th:only-of-type {\n",
              "        vertical-align: middle;\n",
              "    }\n",
              "\n",
              "    .dataframe tbody tr th {\n",
              "        vertical-align: top;\n",
              "    }\n",
              "\n",
              "    .dataframe thead th {\n",
              "        text-align: right;\n",
              "    }\n",
              "</style>\n",
              "<table border=\"1\" class=\"dataframe\">\n",
              "  <thead>\n",
              "    <tr style=\"text-align: right;\">\n",
              "      <th></th>\n",
              "      <th>index</th>\n",
              "      <th>text</th>\n",
              "      <th>class</th>\n",
              "      <th>fold</th>\n",
              "      <th>features</th>\n",
              "      <th>features_normalized</th>\n",
              "      <th>DistilBERT Multilingua</th>\n",
              "      <th>BERT</th>\n",
              "      <th>DistilBERT</th>\n",
              "      <th>RoBERTa</th>\n",
              "    </tr>\n",
              "  </thead>\n",
              "  <tbody>\n",
              "    <tr>\n",
              "      <th>9255</th>\n",
              "      <td>Br.Corpus/true/165.txt</td>\n",
              "      <td>pf envia perguntas temer sobre suspeita de pro...</td>\n",
              "      <td>0</td>\n",
              "      <td>-1</td>\n",
              "      <td>[17.0, 7.0, 23.0, 19.0, 4.0, 70.0, 6.0, 7.0, 2...</td>\n",
              "      <td>[0.0909090909090909, 0.07526881720430108, 0.06...</td>\n",
              "      <td>[0.014514356, 0.008530656, 0.03846555, -0.0099...</td>\n",
              "      <td>[-0.20193985, -0.5226437, 0.46868336, -0.00350...</td>\n",
              "      <td>[-0.36339742, 0.7857486, 0.051166058, -0.64756...</td>\n",
              "      <td>[0.3042544, 1.0563827, -0.39549202, -0.3821118...</td>\n",
              "    </tr>\n",
              "    <tr>\n",
              "      <th>9256</th>\n",
              "      <td>Br.Corpus/true/3523.txt</td>\n",
              "      <td>se dependesse só dele mesmo deputado jair bols...</td>\n",
              "      <td>0</td>\n",
              "      <td>-1</td>\n",
              "      <td>[33.0, 25.0, 100.0, 32.0, 5.0, 171.0, 30.0, 25...</td>\n",
              "      <td>[0.1764705882352941, 0.2688172043010753, 0.293...</td>\n",
              "      <td>[-0.03749506, -0.033387117, 0.05065934, -0.028...</td>\n",
              "      <td>[0.3731324, -0.3448258, 0.7404749, 0.22368652,...</td>\n",
              "      <td>[-0.7858868, 0.51153785, 0.0869052, -0.5411864...</td>\n",
              "      <td>[0.44987923, 0.14891791, 0.31082582, -1.051976...</td>\n",
              "    </tr>\n",
              "    <tr>\n",
              "      <th>9257</th>\n",
              "      <td>Br.Corpus/true/2363.txt</td>\n",
              "      <td>ataque terrorista deixa mortos e feridos em ba...</td>\n",
              "      <td>0</td>\n",
              "      <td>-1</td>\n",
              "      <td>[10.0, 8.0, 30.0, 18.0, 14.0, 57.0, 7.0, 4.0, ...</td>\n",
              "      <td>[0.053475935828877004, 0.08602150537634409, 0....</td>\n",
              "      <td>[-0.024948822, -0.037642844, -0.022688061, -0....</td>\n",
              "      <td>[-0.05710221, -0.13587737, 0.6859786, 0.574700...</td>\n",
              "      <td>[-0.35180303, 0.7982135, 0.05511549, -0.741719...</td>\n",
              "      <td>[0.15009603, 1.1909198, -0.1610699, -0.6711221...</td>\n",
              "    </tr>\n",
              "    <tr>\n",
              "      <th>9258</th>\n",
              "      <td>Br.Corpus/true/186.txt</td>\n",
              "      <td>suzane richthofen e anna carolina jatobá são l...</td>\n",
              "      <td>0</td>\n",
              "      <td>-1</td>\n",
              "      <td>[4.0, 2.0, 11.0, 11.0, 3.0, 39.0, 7.0, 3.0, 14...</td>\n",
              "      <td>[0.0213903743315508, 0.021505376344086027, 0.0...</td>\n",
              "      <td>[-0.013970567, 0.018637374, 0.055494092, -0.01...</td>\n",
              "      <td>[0.37800026, -0.09586002, 0.9392674, 0.1973950...</td>\n",
              "      <td>[-0.40225852, 0.8388919, -0.21161911, -0.59834...</td>\n",
              "      <td>[0.70413524, -0.10781592, -0.22003835, -0.0840...</td>\n",
              "    </tr>\n",
              "    <tr>\n",
              "      <th>9259</th>\n",
              "      <td>Br.Corpus/true/402.txt</td>\n",
              "      <td>adolescente suspeito de ser curador jogo balei...</td>\n",
              "      <td>0</td>\n",
              "      <td>-1</td>\n",
              "      <td>[10.0, 11.0, 15.0, 9.0, 3.0, 44.0, 2.0, 2.0, 1...</td>\n",
              "      <td>[0.053475935828877004, 0.11827956989247312, 0....</td>\n",
              "      <td>[-0.012026974, -0.012726929, -0.015827581, -0....</td>\n",
              "      <td>[0.27077848, -0.0785435, 0.6093684, 0.60272044...</td>\n",
              "      <td>[-0.88760316, 0.43419886, -0.4410904, -0.74014...</td>\n",
              "      <td>[1.8870502, 0.31321263, 0.09041721, -0.5619377...</td>\n",
              "    </tr>\n",
              "  </tbody>\n",
              "</table>\n",
              "</div>\n",
              "      <button class=\"colab-df-convert\" onclick=\"convertToInteractive('df-4b099c58-c16d-4aff-80bc-3f9e669556e7')\"\n",
              "              title=\"Convert this dataframe to an interactive table.\"\n",
              "              style=\"display:none;\">\n",
              "        \n",
              "  <svg xmlns=\"http://www.w3.org/2000/svg\" height=\"24px\"viewBox=\"0 0 24 24\"\n",
              "       width=\"24px\">\n",
              "    <path d=\"M0 0h24v24H0V0z\" fill=\"none\"/>\n",
              "    <path d=\"M18.56 5.44l.94 2.06.94-2.06 2.06-.94-2.06-.94-.94-2.06-.94 2.06-2.06.94zm-11 1L8.5 8.5l.94-2.06 2.06-.94-2.06-.94L8.5 2.5l-.94 2.06-2.06.94zm10 10l.94 2.06.94-2.06 2.06-.94-2.06-.94-.94-2.06-.94 2.06-2.06.94z\"/><path d=\"M17.41 7.96l-1.37-1.37c-.4-.4-.92-.59-1.43-.59-.52 0-1.04.2-1.43.59L10.3 9.45l-7.72 7.72c-.78.78-.78 2.05 0 2.83L4 21.41c.39.39.9.59 1.41.59.51 0 1.02-.2 1.41-.59l7.78-7.78 2.81-2.81c.8-.78.8-2.07 0-2.86zM5.41 20L4 18.59l7.72-7.72 1.47 1.35L5.41 20z\"/>\n",
              "  </svg>\n",
              "      </button>\n",
              "      \n",
              "  <style>\n",
              "    .colab-df-container {\n",
              "      display:flex;\n",
              "      flex-wrap:wrap;\n",
              "      gap: 12px;\n",
              "    }\n",
              "\n",
              "    .colab-df-convert {\n",
              "      background-color: #E8F0FE;\n",
              "      border: none;\n",
              "      border-radius: 50%;\n",
              "      cursor: pointer;\n",
              "      display: none;\n",
              "      fill: #1967D2;\n",
              "      height: 32px;\n",
              "      padding: 0 0 0 0;\n",
              "      width: 32px;\n",
              "    }\n",
              "\n",
              "    .colab-df-convert:hover {\n",
              "      background-color: #E2EBFA;\n",
              "      box-shadow: 0px 1px 2px rgba(60, 64, 67, 0.3), 0px 1px 3px 1px rgba(60, 64, 67, 0.15);\n",
              "      fill: #174EA6;\n",
              "    }\n",
              "\n",
              "    [theme=dark] .colab-df-convert {\n",
              "      background-color: #3B4455;\n",
              "      fill: #D2E3FC;\n",
              "    }\n",
              "\n",
              "    [theme=dark] .colab-df-convert:hover {\n",
              "      background-color: #434B5C;\n",
              "      box-shadow: 0px 1px 3px 1px rgba(0, 0, 0, 0.15);\n",
              "      filter: drop-shadow(0px 1px 2px rgba(0, 0, 0, 0.3));\n",
              "      fill: #FFFFFF;\n",
              "    }\n",
              "  </style>\n",
              "\n",
              "      <script>\n",
              "        const buttonEl =\n",
              "          document.querySelector('#df-4b099c58-c16d-4aff-80bc-3f9e669556e7 button.colab-df-convert');\n",
              "        buttonEl.style.display =\n",
              "          google.colab.kernel.accessAllowed ? 'block' : 'none';\n",
              "\n",
              "        async function convertToInteractive(key) {\n",
              "          const element = document.querySelector('#df-4b099c58-c16d-4aff-80bc-3f9e669556e7');\n",
              "          const dataTable =\n",
              "            await google.colab.kernel.invokeFunction('convertToInteractive',\n",
              "                                                     [key], {});\n",
              "          if (!dataTable) return;\n",
              "\n",
              "          const docLinkHtml = 'Like what you see? Visit the ' +\n",
              "            '<a target=\"_blank\" href=https://colab.research.google.com/notebooks/data_table.ipynb>data table notebook</a>'\n",
              "            + ' to learn more about interactive tables.';\n",
              "          element.innerHTML = '';\n",
              "          dataTable['output_type'] = 'display_data';\n",
              "          await google.colab.output.renderOutput(dataTable, element);\n",
              "          const docLink = document.createElement('div');\n",
              "          docLink.innerHTML = docLinkHtml;\n",
              "          element.appendChild(docLink);\n",
              "        }\n",
              "      </script>\n",
              "    </div>\n",
              "  </div>\n",
              "  "
            ]
          },
          "metadata": {},
          "execution_count": 4
        }
      ]
    },
    {
      "cell_type": "code",
      "source": [
        "df.info()"
      ],
      "metadata": {
        "id": "ZdjSTFMzX9k8",
        "colab": {
          "base_uri": "https://localhost:8080/"
        },
        "outputId": "e20161dd-c68b-485f-c6be-1ce719592049"
      },
      "execution_count": null,
      "outputs": [
        {
          "output_type": "stream",
          "name": "stdout",
          "text": [
            "<class 'pandas.core.frame.DataFrame'>\n",
            "RangeIndex: 9260 entries, 0 to 9259\n",
            "Data columns (total 10 columns):\n",
            " #   Column                  Non-Null Count  Dtype \n",
            "---  ------                  --------------  ----- \n",
            " 0   index                   9260 non-null   object\n",
            " 1   text                    9260 non-null   object\n",
            " 2   class                   9260 non-null   object\n",
            " 3   fold                    9260 non-null   object\n",
            " 4   features                9260 non-null   object\n",
            " 5   features_normalized     9260 non-null   object\n",
            " 6   DistilBERT Multilingua  9260 non-null   object\n",
            " 7   BERT                    9260 non-null   object\n",
            " 8   DistilBERT              9260 non-null   object\n",
            " 9   RoBERTa                 9260 non-null   object\n",
            "dtypes: object(10)\n",
            "memory usage: 723.6+ KB\n"
          ]
        }
      ]
    },
    {
      "cell_type": "code",
      "source": [
        "df = df.drop(['fold', 'BERT', 'features', 'features_normalized', 'DistilBERT', 'RoBERTa'], axis=1);"
      ],
      "metadata": {
        "id": "RCLMrQnN3P5c"
      },
      "execution_count": null,
      "outputs": []
    },
    {
      "cell_type": "code",
      "source": [
        "df.info()"
      ],
      "metadata": {
        "colab": {
          "base_uri": "https://localhost:8080/"
        },
        "id": "k_xWF-n87J0m",
        "outputId": "f9850e0f-8c76-486c-bd53-1029227f2fb7"
      },
      "execution_count": null,
      "outputs": [
        {
          "output_type": "stream",
          "name": "stdout",
          "text": [
            "<class 'pandas.core.frame.DataFrame'>\n",
            "RangeIndex: 9260 entries, 0 to 9259\n",
            "Data columns (total 4 columns):\n",
            " #   Column                  Non-Null Count  Dtype \n",
            "---  ------                  --------------  ----- \n",
            " 0   index                   9260 non-null   object\n",
            " 1   text                    9260 non-null   object\n",
            " 2   class                   9260 non-null   object\n",
            " 3   DistilBERT Multilingua  9260 non-null   object\n",
            "dtypes: object(4)\n",
            "memory usage: 289.5+ KB\n"
          ]
        }
      ]
    },
    {
      "cell_type": "code",
      "source": [
        "df['text'][0]"
      ],
      "metadata": {
        "colab": {
          "base_uri": "https://localhost:8080/",
          "height": 140
        },
        "id": "MXNS1yO9HZ2e",
        "outputId": "fdec4796-72cc-40c0-f70b-b328bb4ecd45"
      },
      "execution_count": null,
      "outputs": [
        {
          "output_type": "execute_result",
          "data": {
            "text/plain": [
              "'\" #Verificamos: Atentado contra Jair Bolsonaro com checagens em tempo realCandidato do PSL à Presidência da República foi atacado com uma faca durante ato de campanha em Juiz de ForaO candidato à Presidência da República pelo PSL, Jair Bolsonaro, foi esfaqueado na tarde da quinta-feira (6), durante um ato de campanha na cidade de Juiz de Fora, em Minas Gerais. Bolsonaro recebeu atendimento médico no município e se recupera de uma cirurgia. Desde as 17h40, a equipe daLupaestá checando em tempo real as informações que circulam na internet e têm relação com o ataque cometido contra o presidenciável. Esta publicação, que faz parte do projeto de verificação de notíciasdo Facebook, poderá ser atualizada a qualquer momento, ao longo das próximas horas(Nota: Este material não pode ser republicado, reescrito ou redistribuído sem autorização prévia da Lupa).\"\"O suspeito [de esfaquear de Bolsonaro] seria José Adélio Bispo de Oliveira, filiado ao PDT mineiro\"\"Informação divulgada por portais como FolhaMax, Metrópoles e LuisCardoso.Com.BrFALSODe acordo com informações oficiais, o nome do homem que foi preso em flagrante por esfaquear Jair Bolsonaro é Adélio Bispo de Oliveira - não José Adélio.José Adélio Bispo de Oliveira, que aparece nas notícias analisadas, é de fato filiado ao PDT de Minas Gerais, mas não é o homem preso pela agressão a Bolsonaro. Trata-se apenas de um homem com nome muito parecido.Uma consulta ao site do Tribunal Superior Eleitoral (TSE) revela que Adélio foi filiado ao PSOL do município de Uberaba, em Minas Gerais, de 2007 a 2014, ano em que pediu a desfiliação da legenda. A Lupa conferiu o título de eleitor informado na relação do PSOL, e ele confere com os documentos divulgados pela Polícia Militar de Minas Gerais. Em nota, o presidente do PSOL, Juliano Medeiros, afirmou que o partido não deve responder pelo ex-filiado que atacou Bolsonaro. \"\"Queremos que ele seja julgado no rigor da lei. Parece que é uma pessoa bem confusa. Se fosse ligado ao PSOL, seria minha responsabilidade. Como não é filiado, não acho que seja da nossa alçada\"\", disse. Anteriormente, o partido havia repudiado a agressão ao candidato e afirmado que se tratava de um grave atentado à normalidade democrática.A Lupa alertou os sites analisados. O Metrópoles alterou a informação.Circula na internet foto que mostra Jair Bolsonaro entrando a pé num hospital acompanhada de legenda que levanta suspeita sobre o ataque cometido contra o presidenciável na tarde de hoje.\"\"Foto mostra o candidato que sofreu uma tentativa de homicídio entrando a pé no hospital\"\"Legenda da foto que está circulando na internet e que até as 18h do dia 6 de setembro de 2018 já havia sido compartilhada mais de 1,3 mil vezesFALSOA imagem analisada pela Lupa foi feita na manhã desta quinta-feira (6), quando Jair Bolsonaro fazia campanha em um hospital filantrópicoda Associação Feminina de Prevenção e Combate ao Câncer de Juiz de Fora (Ascomcer). Em seguida, ele foi a um hotel para um almoço com empresários locais. O registro não foi feito, portanto, após o atentado sofrido pelo presidenciável na parte da tarde.O evento também foi filmado. Vídeos da visita matutina de Bolsonaro à Ascomcer também estão sendo usados para colocar em dúvida o atentado da tarde e criticar o candidato. Eles foram filmados horas antes do ataque.Segundo o jornal Tribuna de Minas e o UOL, a ida de Bolsonaro à Ascomcer nesta manhã foi marcada por tumulto. Outras imagens da visita circulam nas redes sociais:Talvez se tivessem feito isso teria furado a camisa, não? pic.twitter.com/WSFxf94x0U- Vitu (@niehauskaty) 6 de setembro de 2018\"\"Adélio Bispo de Oliveira é o nome de quem tentou matar Jair Bolsonaro em Juiz de Fora. Ele é filiado ao Partido dos Trabalhadores\"\"Informações divulgadas por sites como Blog do Vava Luz eBlog do Cleuber Carlos.FALSOO homem que esfaqueou Bolsonaro nunca foi filiado ao PT. Entre 2007 e 2014, ele foi membro do PSOL.Atualização às 14h do dia 11 de setembro: O site 1News, antes mencionado na matéria, corrigiu a informação em seu site.\"\"Veja o meliante [que esfaqueou Bolsonaro] aí\"\"Frase que acompanha foto falsa (aqui e aqui) que, até às 19h20 do dia 6 de setembro de 2018, já tinha mais de mil compartilhamentos no Facebook FALSOA foto analisa pela Lupa é numa montagem. Foi alterada para inclusão de Adélio Bispo de Oliveira, preso em flagrante por ter esfaqueado Jair Bolsonaro na tarde desta quinta-feira (6). A imagem original pode ser encontrada no site do PT e foi tirada pelo fotógrafo oficial do ex-presidente, Ricardo Stuckert, no dia 5 de maio de 2017. Naquele dia, ele prestou depoimento ao juiz Sérgio Moro, em Curitiba. A mesma imagem pode ser vista no site Conversa Afiada. Oliveira não estava presente na imagem.Compare as imagens:Circula pelo WhatsApp uma imagem que mostra o que aparentemente seria o planejamento do atentado cometido contra Jair Bolsonaro na tarde do dia 6.\"\"Vou da (sic) uma facada no peito desse fasista (sic) FDP!\"\"Frase que aparece em diálogoenão está relacionada ao atentado cometido contra Bolsonaro em Juiz de ForaFALSOA imagem analisada pela Lupanão parece manipulada, mas data de 16 de agosto de 2017, ou seja, foi escrita há mais de um ano. O mesmo conteúdo circula em outra versão, que faz referência explícita ao senador Magno Malta.No dia 18 de agosto de 2017, o deputado Jair Bolsonaro estava numa cafeteria de Ribeirão Preto (SP) quando foi atacado por uma jovem quejogou um ovo nele. Horas mais tarde, Magno Malta fez uma gravação falando do assunto e afirmando que ela e seu grupo de amigos \"\"estavam planejando um crime\"\".Ou seja, a imagem que circula hoje em dia parece real não tem qualquer relação com o episódio de Juiz de Fora. É antiga.\"\"O criminoso que tentou matar Bolsonaro (...) assessora a campanha de Dilma ao senado em Minas\"\"Frase contida num tuíte feito pelo pastor Silas Malafaia, presidente da Assembleia de Deus Vitória, na noite de 6 de setembro de 2018 e que já tinha 2,3 mil retuítes às 12h do dia 7 de setembro de 2018FALSOA Lupa não localizou nenhum registro oficial da contratação de Adélio por parte da campanha de Dilma Rousseff para o Senado.Em nota, a assessoria da candidata petista nega que o agressor de Bolsonaro faça parte da equipe de campanha e informa que o\"\"senhor bispo Malafaia vai ter de provar o que disse em rede social\"\". Além disso, antecipa que tomará medidas legais contra ele. \"\"[Malafaia] É um mentiroso e terá de responder na Justiça\"\".A reportagem procurou Silas Malafaia na manhã desta sexta-feira (7) para que ele comentasse a checagem, mas não obteve retorno até o momento.*Nota: esta reportagem faz parte do projeto deverificação de notícias no Facebook. Dúvidas sobre o projeto? Entre em contato direto com oFacebook.Editado por: Cristina Tardáguila e Natália Leal\"'"
            ],
            "application/vnd.google.colaboratory.intrinsic+json": {
              "type": "string"
            }
          },
          "metadata": {},
          "execution_count": 8
        }
      ]
    },
    {
      "cell_type": "code",
      "source": [
        "X = df['DistilBERT Multilingua'].tolist()\n",
        "#X = df['text'].tolist()\n",
        "y = df['class'].tolist()\n",
        "\n",
        "len(X), len(y)"
      ],
      "metadata": {
        "id": "g6I1-xO_5fyT",
        "colab": {
          "base_uri": "https://localhost:8080/"
        },
        "outputId": "9201e68c-4d46-4f89-b5ef-66d87d0e9b4f"
      },
      "execution_count": null,
      "outputs": [
        {
          "output_type": "execute_result",
          "data": {
            "text/plain": [
              "(9260, 9260)"
            ]
          },
          "metadata": {},
          "execution_count": 9
        }
      ]
    },
    {
      "cell_type": "code",
      "source": [
        "np.unique(y)"
      ],
      "metadata": {
        "colab": {
          "base_uri": "https://localhost:8080/"
        },
        "id": "Wv0QQM9QAr4e",
        "outputId": "d1708de4-c63b-4d2b-9623-399218218c4e"
      },
      "execution_count": null,
      "outputs": [
        {
          "output_type": "execute_result",
          "data": {
            "text/plain": [
              "array([0, 1])"
            ]
          },
          "metadata": {},
          "execution_count": 10
        }
      ]
    },
    {
      "cell_type": "code",
      "source": [
        "from sklearn.model_selection import train_test_split"
      ],
      "metadata": {
        "id": "rAtP3PAVLZ0u"
      },
      "execution_count": null,
      "outputs": []
    },
    {
      "cell_type": "code",
      "source": [
        "X_train, X_test, y_train, y_test = train_test_split(X, y, test_size=0.33, random_state=42)"
      ],
      "metadata": {
        "id": "24jgGV1p3bw1"
      },
      "execution_count": null,
      "outputs": []
    },
    {
      "cell_type": "markdown",
      "source": [
        "## MLP(Multilayer perceptron) com DistilBERT Multilingua"
      ],
      "metadata": {
        "id": "CoC6aBIz3dhQ"
      }
    },
    {
      "cell_type": "code",
      "source": [
        "import torch\n",
        "import torch.nn as nn"
      ],
      "metadata": {
        "id": "rvSeqvhJJvKl"
      },
      "execution_count": null,
      "outputs": []
    },
    {
      "cell_type": "markdown",
      "source": [
        "- Transformar Arrays em Tensors"
      ],
      "metadata": {
        "id": "32ppI_Ne3liy"
      }
    },
    {
      "cell_type": "code",
      "source": [
        "X_train = torch.FloatTensor(X_train)\n",
        "X_test = torch.FloatTensor(X_test)\n",
        "y_train = torch.FloatTensor(y_train)\n",
        "y_test = torch.FloatTensor(y_test)"
      ],
      "metadata": {
        "id": "pFo7kVfxMAsg",
        "colab": {
          "base_uri": "https://localhost:8080/"
        },
        "outputId": "88e945f3-60f3-4a15-94bf-8b55c25e9e3e"
      },
      "execution_count": null,
      "outputs": [
        {
          "output_type": "stream",
          "name": "stderr",
          "text": [
            "<ipython-input-14-481df7169305>:1: UserWarning: Creating a tensor from a list of numpy.ndarrays is extremely slow. Please consider converting the list to a single numpy.ndarray with numpy.array() before converting to a tensor. (Triggered internally at ../torch/csrc/utils/tensor_new.cpp:245.)\n",
            "  X_train = torch.FloatTensor(X_train)\n"
          ]
        }
      ]
    },
    {
      "cell_type": "markdown",
      "source": [
        "#### Definir modelo (rede neural)"
      ],
      "metadata": {
        "id": "-mTcb8QD34i3"
      }
    },
    {
      "cell_type": "code",
      "source": [
        "class Feedforward(torch.nn.Module):\n",
        "        def __init__(self, input_size, hidden_size):\n",
        "            super(Feedforward, self).__init__()\n",
        "            self.input_size = input_size\n",
        "            self.hidden_size  = hidden_size\n",
        "            self.fc1 = nn.Sequential(\n",
        "                torch.nn.Linear(self.input_size, self.hidden_size),\n",
        "                torch.nn.ReLU(),\n",
        "                torch.nn.Dropout(p=0.25)\n",
        "            )\n",
        "            self.fc2 = nn.Sequential(\n",
        "                torch.nn.Linear(self.hidden_size, self.hidden_size),\n",
        "                torch.nn.ReLU(),\n",
        "                torch.nn.Dropout(p=0.25)\n",
        "            )\n",
        "            self.fc3 = nn.Sequential(\n",
        "                torch.nn.Linear(self.hidden_size, 1),\n",
        "                torch.nn.Sigmoid()\n",
        "            )\n",
        "\n",
        "        def forward(self, x):\n",
        "            fc1 = self.fc1(x)\n",
        "            fc2 = self.fc2(fc1)\n",
        "            output = self.fc3(fc2)\n",
        "            return output\n"
      ],
      "metadata": {
        "id": "rwzFkI8EKW4V"
      },
      "execution_count": null,
      "outputs": []
    },
    {
      "cell_type": "markdown",
      "source": [
        "#### Instanciar modelo e funções importantes"
      ],
      "metadata": {
        "id": "tpFfX75B5F14"
      }
    },
    {
      "cell_type": "code",
      "source": [
        "batch_size = 64 # not used\n",
        "learning_rate = 0.001\n",
        "num_epochs = 50"
      ],
      "metadata": {
        "id": "1TTBi3S4vPS0"
      },
      "execution_count": null,
      "outputs": []
    },
    {
      "cell_type": "code",
      "source": [
        "model = Feedforward(512, 512)\n",
        "\n",
        "cost = torch.nn.BCELoss()\n",
        "\n",
        "optimizer = torch.optim.Adam(model.parameters(), lr = learning_rate)\n"
      ],
      "metadata": {
        "id": "Pbk0n7MIK3Pv"
      },
      "execution_count": null,
      "outputs": []
    },
    {
      "cell_type": "markdown",
      "source": [
        "#### Treino"
      ],
      "metadata": {
        "id": "cd-ZNM2E5QxJ"
      }
    },
    {
      "cell_type": "code",
      "source": [
        "model.eval()\n",
        "y_pred = model(X_test)\n",
        "before_train = cost(y_pred.squeeze(), y_test)\n",
        "print('Test loss before training' , before_train.item())"
      ],
      "metadata": {
        "colab": {
          "base_uri": "https://localhost:8080/"
        },
        "id": "uT8_JSsbLN-G",
        "outputId": "3cc804be-44d8-4a59-bd74-d32aea953738"
      },
      "execution_count": null,
      "outputs": [
        {
          "output_type": "stream",
          "name": "stdout",
          "text": [
            "Test loss before training 0.6931037306785583\n"
          ]
        }
      ]
    },
    {
      "cell_type": "code",
      "source": [
        "model.train()\n",
        "epoch = 80\n",
        "for epoch in range(epoch):\n",
        "    optimizer.zero_grad()\n",
        "    # Forward pass\n",
        "    y_pred = model(X_train)\n",
        "    # Compute Loss\n",
        "    loss = cost(y_pred.squeeze(), y_train)\n",
        "\n",
        "    print('Epoch {}: train loss: {}'.format(epoch, loss.item()))\n",
        "    # Backward pass\n",
        "    loss.backward()\n",
        "    optimizer.step()"
      ],
      "metadata": {
        "id": "DrSnIOmgNGQ1",
        "colab": {
          "base_uri": "https://localhost:8080/"
        },
        "outputId": "b5255703-c06a-453d-a40d-e1c45b51dc16"
      },
      "execution_count": null,
      "outputs": [
        {
          "output_type": "stream",
          "name": "stdout",
          "text": [
            "Epoch 0: train loss: 0.6932044625282288\n",
            "Epoch 1: train loss: 0.690510094165802\n",
            "Epoch 2: train loss: 0.687023937702179\n",
            "Epoch 3: train loss: 0.6815484762191772\n",
            "Epoch 4: train loss: 0.6742087602615356\n",
            "Epoch 5: train loss: 0.6638914942741394\n",
            "Epoch 6: train loss: 0.6514604687690735\n",
            "Epoch 7: train loss: 0.6365030407905579\n",
            "Epoch 8: train loss: 0.6201512813568115\n",
            "Epoch 9: train loss: 0.6010347604751587\n",
            "Epoch 10: train loss: 0.5806472897529602\n",
            "Epoch 11: train loss: 0.5587366819381714\n",
            "Epoch 12: train loss: 0.5377053022384644\n",
            "Epoch 13: train loss: 0.5165471434593201\n",
            "Epoch 14: train loss: 0.4960571527481079\n",
            "Epoch 15: train loss: 0.4787190854549408\n",
            "Epoch 16: train loss: 0.46300962567329407\n",
            "Epoch 17: train loss: 0.44971656799316406\n",
            "Epoch 18: train loss: 0.438951700925827\n",
            "Epoch 19: train loss: 0.428653746843338\n",
            "Epoch 20: train loss: 0.4229516386985779\n",
            "Epoch 21: train loss: 0.4176551401615143\n",
            "Epoch 22: train loss: 0.41196727752685547\n",
            "Epoch 23: train loss: 0.40991583466529846\n",
            "Epoch 24: train loss: 0.4045795500278473\n",
            "Epoch 25: train loss: 0.399646133184433\n",
            "Epoch 26: train loss: 0.3936428427696228\n",
            "Epoch 27: train loss: 0.3866719603538513\n",
            "Epoch 28: train loss: 0.38310420513153076\n",
            "Epoch 29: train loss: 0.37581583857536316\n",
            "Epoch 30: train loss: 0.3696448504924774\n",
            "Epoch 31: train loss: 0.36532720923423767\n",
            "Epoch 32: train loss: 0.361311137676239\n",
            "Epoch 33: train loss: 0.35502272844314575\n",
            "Epoch 34: train loss: 0.35140344500541687\n",
            "Epoch 35: train loss: 0.34710803627967834\n",
            "Epoch 36: train loss: 0.34489497542381287\n",
            "Epoch 37: train loss: 0.3394598960876465\n",
            "Epoch 38: train loss: 0.33724746108055115\n",
            "Epoch 39: train loss: 0.33301594853401184\n",
            "Epoch 40: train loss: 0.3270016014575958\n",
            "Epoch 41: train loss: 0.32208457589149475\n",
            "Epoch 42: train loss: 0.3181171715259552\n",
            "Epoch 43: train loss: 0.3148796558380127\n",
            "Epoch 44: train loss: 0.30999135971069336\n",
            "Epoch 45: train loss: 0.3068601191043854\n",
            "Epoch 46: train loss: 0.30248621106147766\n",
            "Epoch 47: train loss: 0.29936009645462036\n",
            "Epoch 48: train loss: 0.29508209228515625\n",
            "Epoch 49: train loss: 0.29183387756347656\n",
            "Epoch 50: train loss: 0.2849125564098358\n",
            "Epoch 51: train loss: 0.28331735730171204\n",
            "Epoch 52: train loss: 0.2775465250015259\n",
            "Epoch 53: train loss: 0.2757125794887543\n",
            "Epoch 54: train loss: 0.2703568935394287\n",
            "Epoch 55: train loss: 0.26635056734085083\n",
            "Epoch 56: train loss: 0.262098491191864\n",
            "Epoch 57: train loss: 0.25830113887786865\n",
            "Epoch 58: train loss: 0.2515197694301605\n",
            "Epoch 59: train loss: 0.24836459755897522\n",
            "Epoch 60: train loss: 0.24452102184295654\n",
            "Epoch 61: train loss: 0.23897412419319153\n",
            "Epoch 62: train loss: 0.23597559332847595\n",
            "Epoch 63: train loss: 0.23231913149356842\n",
            "Epoch 64: train loss: 0.22705096006393433\n",
            "Epoch 65: train loss: 0.22175264358520508\n",
            "Epoch 66: train loss: 0.21595190465450287\n",
            "Epoch 67: train loss: 0.21222715079784393\n",
            "Epoch 68: train loss: 0.20685099065303802\n",
            "Epoch 69: train loss: 0.20258446037769318\n",
            "Epoch 70: train loss: 0.19911257922649384\n",
            "Epoch 71: train loss: 0.19805507361888885\n",
            "Epoch 72: train loss: 0.18979068100452423\n",
            "Epoch 73: train loss: 0.18530355393886566\n",
            "Epoch 74: train loss: 0.18524481356143951\n",
            "Epoch 75: train loss: 0.17451155185699463\n",
            "Epoch 76: train loss: 0.1734182983636856\n",
            "Epoch 77: train loss: 0.16672489047050476\n",
            "Epoch 78: train loss: 0.16643498837947845\n",
            "Epoch 79: train loss: 0.15986935794353485\n"
          ]
        }
      ]
    },
    {
      "cell_type": "code",
      "source": [
        "model.eval()\n",
        "y_pred = model(X_test)\n",
        "after_train = cost(y_pred.squeeze(), y_test)\n",
        "print('Test loss after Training' , after_train.item())"
      ],
      "metadata": {
        "colab": {
          "base_uri": "https://localhost:8080/"
        },
        "id": "UrzeJjJzNObX",
        "outputId": "6c0bb9ac-cc82-44a1-864f-02b94af0ae0d"
      },
      "execution_count": null,
      "outputs": [
        {
          "output_type": "stream",
          "name": "stdout",
          "text": [
            "Test loss after Training 0.3561951816082001\n"
          ]
        }
      ]
    },
    {
      "cell_type": "markdown",
      "source": [
        "#### Teste"
      ],
      "metadata": {
        "id": "FumODC2I5V46"
      }
    },
    {
      "cell_type": "code",
      "source": [
        "correct = 0\n",
        "total = 0\n",
        "test_pred = []\n",
        "for i, test in enumerate(X_test):\n",
        "\n",
        "  outputs = model(test)\n",
        "  predicted = outputs.data\n",
        "  total += 1\n",
        "  is_fake = predicted.item() > 0.5\n",
        "  test_pred.append(int(is_fake))\n",
        "  correct += is_fake == y_test[i]\n",
        "\n",
        "print(f'Accuracy of MLP on {total} tests: {100 * correct / total} %')"
      ],
      "metadata": {
        "colab": {
          "base_uri": "https://localhost:8080/"
        },
        "id": "PV1h6d54eNTa",
        "outputId": "e9fffb19-c479-49b7-a4b4-0ecac1d2f0c7"
      },
      "execution_count": null,
      "outputs": [
        {
          "output_type": "stream",
          "name": "stdout",
          "text": [
            "Accuracy of MLP on 3056 tests: 84.4568099975586 %\n"
          ]
        }
      ]
    },
    {
      "cell_type": "markdown",
      "source": [
        "## SVM(Support vector machine) com DistilBERT Multilingua"
      ],
      "metadata": {
        "id": "U6sDyoql4AmA"
      }
    },
    {
      "cell_type": "code",
      "source": [
        "from sklearn.svm import SVC\n",
        "from sklearn.pipeline import make_pipeline\n",
        "from sklearn.preprocessing import StandardScaler"
      ],
      "metadata": {
        "id": "d_wy2w0qSpr1"
      },
      "execution_count": null,
      "outputs": []
    },
    {
      "cell_type": "markdown",
      "source": [
        "### Definir modelo e treino"
      ],
      "metadata": {
        "id": "r_3LOwb54geJ"
      }
    },
    {
      "cell_type": "code",
      "source": [
        "## por que o pipeline é tão importante? 51% -> 85%\n",
        "clf = make_pipeline(StandardScaler(), SVC(gamma='auto'))\n",
        "clf.fit(X_train, y_train)"
      ],
      "metadata": {
        "colab": {
          "base_uri": "https://localhost:8080/",
          "height": 126
        },
        "id": "DGbz2PAiSs1s",
        "outputId": "9699c35b-42ae-4567-826f-dee146cb7653"
      },
      "execution_count": null,
      "outputs": [
        {
          "output_type": "execute_result",
          "data": {
            "text/plain": [
              "Pipeline(steps=[('standardscaler', StandardScaler()),\n",
              "                ('svc', SVC(gamma='auto'))])"
            ],
            "text/html": [
              "<style>#sk-container-id-1 {color: black;background-color: white;}#sk-container-id-1 pre{padding: 0;}#sk-container-id-1 div.sk-toggleable {background-color: white;}#sk-container-id-1 label.sk-toggleable__label {cursor: pointer;display: block;width: 100%;margin-bottom: 0;padding: 0.3em;box-sizing: border-box;text-align: center;}#sk-container-id-1 label.sk-toggleable__label-arrow:before {content: \"▸\";float: left;margin-right: 0.25em;color: #696969;}#sk-container-id-1 label.sk-toggleable__label-arrow:hover:before {color: black;}#sk-container-id-1 div.sk-estimator:hover label.sk-toggleable__label-arrow:before {color: black;}#sk-container-id-1 div.sk-toggleable__content {max-height: 0;max-width: 0;overflow: hidden;text-align: left;background-color: #f0f8ff;}#sk-container-id-1 div.sk-toggleable__content pre {margin: 0.2em;color: black;border-radius: 0.25em;background-color: #f0f8ff;}#sk-container-id-1 input.sk-toggleable__control:checked~div.sk-toggleable__content {max-height: 200px;max-width: 100%;overflow: auto;}#sk-container-id-1 input.sk-toggleable__control:checked~label.sk-toggleable__label-arrow:before {content: \"▾\";}#sk-container-id-1 div.sk-estimator input.sk-toggleable__control:checked~label.sk-toggleable__label {background-color: #d4ebff;}#sk-container-id-1 div.sk-label input.sk-toggleable__control:checked~label.sk-toggleable__label {background-color: #d4ebff;}#sk-container-id-1 input.sk-hidden--visually {border: 0;clip: rect(1px 1px 1px 1px);clip: rect(1px, 1px, 1px, 1px);height: 1px;margin: -1px;overflow: hidden;padding: 0;position: absolute;width: 1px;}#sk-container-id-1 div.sk-estimator {font-family: monospace;background-color: #f0f8ff;border: 1px dotted black;border-radius: 0.25em;box-sizing: border-box;margin-bottom: 0.5em;}#sk-container-id-1 div.sk-estimator:hover {background-color: #d4ebff;}#sk-container-id-1 div.sk-parallel-item::after {content: \"\";width: 100%;border-bottom: 1px solid gray;flex-grow: 1;}#sk-container-id-1 div.sk-label:hover label.sk-toggleable__label {background-color: #d4ebff;}#sk-container-id-1 div.sk-serial::before {content: \"\";position: absolute;border-left: 1px solid gray;box-sizing: border-box;top: 0;bottom: 0;left: 50%;z-index: 0;}#sk-container-id-1 div.sk-serial {display: flex;flex-direction: column;align-items: center;background-color: white;padding-right: 0.2em;padding-left: 0.2em;position: relative;}#sk-container-id-1 div.sk-item {position: relative;z-index: 1;}#sk-container-id-1 div.sk-parallel {display: flex;align-items: stretch;justify-content: center;background-color: white;position: relative;}#sk-container-id-1 div.sk-item::before, #sk-container-id-1 div.sk-parallel-item::before {content: \"\";position: absolute;border-left: 1px solid gray;box-sizing: border-box;top: 0;bottom: 0;left: 50%;z-index: -1;}#sk-container-id-1 div.sk-parallel-item {display: flex;flex-direction: column;z-index: 1;position: relative;background-color: white;}#sk-container-id-1 div.sk-parallel-item:first-child::after {align-self: flex-end;width: 50%;}#sk-container-id-1 div.sk-parallel-item:last-child::after {align-self: flex-start;width: 50%;}#sk-container-id-1 div.sk-parallel-item:only-child::after {width: 0;}#sk-container-id-1 div.sk-dashed-wrapped {border: 1px dashed gray;margin: 0 0.4em 0.5em 0.4em;box-sizing: border-box;padding-bottom: 0.4em;background-color: white;}#sk-container-id-1 div.sk-label label {font-family: monospace;font-weight: bold;display: inline-block;line-height: 1.2em;}#sk-container-id-1 div.sk-label-container {text-align: center;}#sk-container-id-1 div.sk-container {/* jupyter's `normalize.less` sets `[hidden] { display: none; }` but bootstrap.min.css set `[hidden] { display: none !important; }` so we also need the `!important` here to be able to override the default hidden behavior on the sphinx rendered scikit-learn.org. See: https://github.com/scikit-learn/scikit-learn/issues/21755 */display: inline-block !important;position: relative;}#sk-container-id-1 div.sk-text-repr-fallback {display: none;}</style><div id=\"sk-container-id-1\" class=\"sk-top-container\"><div class=\"sk-text-repr-fallback\"><pre>Pipeline(steps=[(&#x27;standardscaler&#x27;, StandardScaler()),\n",
              "                (&#x27;svc&#x27;, SVC(gamma=&#x27;auto&#x27;))])</pre><b>In a Jupyter environment, please rerun this cell to show the HTML representation or trust the notebook. <br />On GitHub, the HTML representation is unable to render, please try loading this page with nbviewer.org.</b></div><div class=\"sk-container\" hidden><div class=\"sk-item sk-dashed-wrapped\"><div class=\"sk-label-container\"><div class=\"sk-label sk-toggleable\"><input class=\"sk-toggleable__control sk-hidden--visually\" id=\"sk-estimator-id-1\" type=\"checkbox\" ><label for=\"sk-estimator-id-1\" class=\"sk-toggleable__label sk-toggleable__label-arrow\">Pipeline</label><div class=\"sk-toggleable__content\"><pre>Pipeline(steps=[(&#x27;standardscaler&#x27;, StandardScaler()),\n",
              "                (&#x27;svc&#x27;, SVC(gamma=&#x27;auto&#x27;))])</pre></div></div></div><div class=\"sk-serial\"><div class=\"sk-item\"><div class=\"sk-estimator sk-toggleable\"><input class=\"sk-toggleable__control sk-hidden--visually\" id=\"sk-estimator-id-2\" type=\"checkbox\" ><label for=\"sk-estimator-id-2\" class=\"sk-toggleable__label sk-toggleable__label-arrow\">StandardScaler</label><div class=\"sk-toggleable__content\"><pre>StandardScaler()</pre></div></div></div><div class=\"sk-item\"><div class=\"sk-estimator sk-toggleable\"><input class=\"sk-toggleable__control sk-hidden--visually\" id=\"sk-estimator-id-3\" type=\"checkbox\" ><label for=\"sk-estimator-id-3\" class=\"sk-toggleable__label sk-toggleable__label-arrow\">SVC</label><div class=\"sk-toggleable__content\"><pre>SVC(gamma=&#x27;auto&#x27;)</pre></div></div></div></div></div></div></div>"
            ]
          },
          "metadata": {},
          "execution_count": 25
        }
      ]
    },
    {
      "cell_type": "markdown",
      "source": [
        "### Teste"
      ],
      "metadata": {
        "id": "iOgw6LEc4jWz"
      }
    },
    {
      "cell_type": "code",
      "source": [
        "correct = 0\n",
        "total = 0\n",
        "test_pred = []\n",
        "\n",
        "outputs = clf.predict(X_test)\n",
        "\n",
        "for i, output in enumerate(outputs):\n",
        "  total += 1\n",
        "  correct += int(output) == y_test[i]\n",
        "  test_pred.append(int(output))\n",
        "\n",
        "print(f'Accuracy of the SVM on {total} tests: {100 * correct / total} %')"
      ],
      "metadata": {
        "colab": {
          "base_uri": "https://localhost:8080/"
        },
        "id": "ygdMcbUsTGOD",
        "outputId": "e1ad5358-9a5d-4044-f431-40e3bdde176c"
      },
      "execution_count": null,
      "outputs": [
        {
          "output_type": "stream",
          "name": "stdout",
          "text": [
            "Accuracy of the SVM on 3056 tests: 85.17670440673828 %\n"
          ]
        }
      ]
    },
    {
      "cell_type": "markdown",
      "source": [
        "## Matriz de Confusão"
      ],
      "metadata": {
        "id": "RU7Ls7Gc67NN"
      }
    },
    {
      "cell_type": "code",
      "source": [
        "def plot_cm(classes, test_targets, test_preds):\n",
        "  cm = np.zeros((len(classes), len(classes)), np.int64)\n",
        "  for i, actual in enumerate(test_targets):\n",
        "      cm[int(actual.item()), test_preds[i]] += 1\n",
        "\n",
        "  print(cm)\n",
        "  fig = plt.figure()\n",
        "\n",
        "  plt.imshow(cm, interpolation='nearest', cmap='Blues')\n",
        "  plt.title(\"Confusion matrix\")\n",
        "\n",
        "\n",
        "  tick_marks = np.arange(len(classes))\n",
        "  plt.xticks(tick_marks, classes, rotation=90)\n",
        "  plt.yticks(tick_marks, classes, rotation=0)\n",
        "\n",
        "  thresh = cm.max() / len(classes)\n",
        "  for i, j in itertools.product(range(cm.shape[0]), range(cm.shape[1])):\n",
        "      coeff = f'{cm[i, j]}'\n",
        "      plt.text(j, i, coeff, horizontalalignment=\"center\", verticalalignment=\"center\", color=\"white\"\n",
        "                  if cm[i, j] > thresh else \"black\")\n",
        "\n",
        "  ax = fig.gca()\n",
        "  ax.set_ylim(len(classes)-.5,-.5)\n",
        "\n",
        "\n",
        "  plt.tight_layout()\n",
        "  plt.ylabel('Actual')\n",
        "  plt.xlabel('Predicted')\n",
        "  plt.grid(False)\n",
        "\n",
        "  plt.show()"
      ],
      "metadata": {
        "id": "HpWmDgCuD_A2"
      },
      "execution_count": null,
      "outputs": []
    },
    {
      "cell_type": "code",
      "source": [
        "import torch\n",
        "y_test = torch.FloatTensor(y_test)"
      ],
      "metadata": {
        "id": "C34e5D0L6uV6"
      },
      "execution_count": null,
      "outputs": []
    },
    {
      "cell_type": "code",
      "source": [
        "plot_cm(['true', 'fake'], y_test, test_pred)"
      ],
      "metadata": {
        "colab": {
          "base_uri": "https://localhost:8080/",
          "height": 541
        },
        "id": "dRoLNtGzFmBl",
        "outputId": "8f6aad2e-e79c-4667-ca52-2c20836fc045"
      },
      "execution_count": null,
      "outputs": [
        {
          "output_type": "stream",
          "name": "stdout",
          "text": [
            "[[1296  230]\n",
            " [ 223 1307]]\n"
          ]
        },
        {
          "output_type": "display_data",
          "data": {
            "text/plain": [
              "<Figure size 640x480 with 1 Axes>"
            ],
            "image/png": "[encoded data removed]"
          },
          "metadata": {}
        }
      ]
    },
    {
      "cell_type": "markdown",
      "source": [
        "# Fine Tuning"
      ],
      "metadata": {
        "id": "knAjrHpojlW9"
      }
    },
    {
      "cell_type": "code",
      "source": [
        "!pip install ktrain"
      ],
      "metadata": {
        "id": "8qXhgcVc3-VS"
      },
      "execution_count": null,
      "outputs": []
    },
    {
      "cell_type": "code",
      "source": [
        "import ktrain\n",
        "from ktrain import text"
      ],
      "metadata": {
        "id": "OUbDFHUu3ZUF"
      },
      "execution_count": null,
      "outputs": []
    },
    {
      "cell_type": "code",
      "source": [
        "len(X_train)"
      ],
      "metadata": {
        "colab": {
          "base_uri": "https://localhost:8080/"
        },
        "id": "UaN_SCTKkCe8",
        "outputId": "9a862010-28b9-4daf-bba5-9c523012bade"
      },
      "execution_count": null,
      "outputs": [
        {
          "output_type": "execute_result",
          "data": {
            "text/plain": [
              "6204"
            ]
          },
          "metadata": {},
          "execution_count": 21
        }
      ]
    },
    {
      "cell_type": "code",
      "source": [
        "trn, val, preproc = text.texts_from_array(X_train, y_train, class_names=['true', 'fake'],\n",
        "                                     maxlen=700, preprocess_mode='distilbert',)\n"
      ],
      "metadata": {
        "colab": {
          "base_uri": "https://localhost:8080/",
          "height": 315
        },
        "id": "kt7lX2GLBRit",
        "outputId": "a24af649-554e-4a21-9a68-e30cbc75f537"
      },
      "execution_count": null,
      "outputs": [
        {
          "output_type": "stream",
          "name": "stderr",
          "text": [
            "/usr/local/lib/python3.10/dist-packages/ktrain/text/preprocessor.py:850: UserWarning: Transformer models typically only support maxlen <= 512, unless you are using certain models like the Longformer.\n",
            "  warnings.warn(\n"
          ]
        },
        {
          "output_type": "stream",
          "name": "stdout",
          "text": [
            "preprocessing train...\n",
            "language: pt\n",
            "train sequence lengths:\n",
            "\tmean : 236\n",
            "\t95percentile : 634\n",
            "\t99percentile : 1260\n"
          ]
        },
        {
          "output_type": "display_data",
          "data": {
            "text/plain": [
              "<IPython.core.display.HTML object>"
            ],
            "text/html": [
              "\n",
              "<style>\n",
              "    /* Turns off some styling */\n",
              "    progress {\n",
              "        /* gets rid of default border in Firefox and Opera. */\n",
              "        border: none;\n",
              "        /* Needs to be in here for Safari polyfill so background images work as expected. */\n",
              "        background-size: auto;\n",
              "    }\n",
              "    progress:not([value]), progress:not([value])::-webkit-progress-bar {\n",
              "        background: repeating-linear-gradient(45deg, #7e7e7e, #7e7e7e 10px, #5c5c5c 10px, #5c5c5c 20px);\n",
              "    }\n",
              "    .progress-bar-interrupted, .progress-bar-interrupted::-webkit-progress-bar {\n",
              "        background: #F44336;\n",
              "    }\n",
              "</style>\n"
            ]
          },
          "metadata": {}
        },
        {
          "output_type": "display_data",
          "data": {
            "text/plain": [
              "<IPython.core.display.HTML object>"
            ],
            "text/html": []
          },
          "metadata": {}
        },
        {
          "output_type": "stream",
          "name": "stdout",
          "text": [
            "Is Multi-Label? False\n",
            "preprocessing test...\n",
            "language: pt\n",
            "test sequence lengths:\n",
            "\tmean : 250\n",
            "\t95percentile : 643\n",
            "\t99percentile : 1216\n"
          ]
        },
        {
          "output_type": "display_data",
          "data": {
            "text/plain": [
              "<IPython.core.display.HTML object>"
            ],
            "text/html": [
              "\n",
              "<style>\n",
              "    /* Turns off some styling */\n",
              "    progress {\n",
              "        /* gets rid of default border in Firefox and Opera. */\n",
              "        border: none;\n",
              "        /* Needs to be in here for Safari polyfill so background images work as expected. */\n",
              "        background-size: auto;\n",
              "    }\n",
              "    progress:not([value]), progress:not([value])::-webkit-progress-bar {\n",
              "        background: repeating-linear-gradient(45deg, #7e7e7e, #7e7e7e 10px, #5c5c5c 10px, #5c5c5c 20px);\n",
              "    }\n",
              "    .progress-bar-interrupted, .progress-bar-interrupted::-webkit-progress-bar {\n",
              "        background: #F44336;\n",
              "    }\n",
              "</style>\n"
            ]
          },
          "metadata": {}
        },
        {
          "output_type": "display_data",
          "data": {
            "text/plain": [
              "<IPython.core.display.HTML object>"
            ],
            "text/html": []
          },
          "metadata": {}
        },
        {
          "output_type": "stream",
          "name": "stdout",
          "text": [
            "task: text classification\n"
          ]
        }
      ]
    },
    {
      "cell_type": "code",
      "source": [
        "model = text.text_classifier('distilbert', trn , preproc=preproc)"
      ],
      "metadata": {
        "colab": {
          "base_uri": "https://localhost:8080/"
        },
        "id": "yuDdLAccBAlP",
        "outputId": "62152e3e-277a-4ee5-bffb-55c469f1566e"
      },
      "execution_count": null,
      "outputs": [
        {
          "output_type": "stream",
          "name": "stdout",
          "text": [
            "Is Multi-Label? False\n",
            "maxlen is 700\n",
            "done.\n"
          ]
        }
      ]
    },
    {
      "cell_type": "code",
      "source": [
        "learner = ktrain.get_learner(model, train_data=trn, val_data=val, batch_size=6)"
      ],
      "metadata": {
        "id": "rhDq43IvBhYL"
      },
      "execution_count": null,
      "outputs": []
    },
    {
      "cell_type": "code",
      "source": [
        "learner.lr_find()"
      ],
      "metadata": {
        "colab": {
          "base_uri": "https://localhost:8080/"
        },
        "id": "2jnvqiEsByMY",
        "outputId": "c1feb1c0-b40f-4a05-c0b9-899d8e3a3aa7"
      },
      "execution_count": null,
      "outputs": [
        {
          "output_type": "stream",
          "name": "stdout",
          "text": [
            "simulating training for different learning rates... this may take a few moments...\n",
            "Epoch 1/1024\n",
            "930/930 [==============================] - 525s 553ms/step - loss: 0.5945 - accuracy: 0.6616\n",
            "Epoch 2/1024\n",
            "930/930 [==============================] - 302s 325ms/step - loss: 113.9300 - accuracy: 0.5137\n",
            "\n",
            "\n",
            "done.\n",
            "Please invoke the Learner.lr_plot() method to visually inspect the loss plot to help identify the maximal learning rate associated with falling loss.\n"
          ]
        }
      ]
    },
    {
      "cell_type": "code",
      "source": [
        "learner.lr_plot()"
      ],
      "metadata": {
        "colab": {
          "base_uri": "https://localhost:8080/",
          "height": 454
        },
        "id": "O3gBEQWZDSUo",
        "outputId": "8a1fac0f-4aac-4e88-c348-b21fe4af4140"
      },
      "execution_count": null,
      "outputs": [
        {
          "output_type": "display_data",
          "data": {
            "text/plain": [
              "<Figure size 640x480 with 1 Axes>"
            ],
            "image/png": "[encoded data removed]"
          },
          "metadata": {}
        }
      ]
    },
    {
      "cell_type": "code",
      "source": [
        "learner.fit_onecycle(2e-4, 3)"
      ],
      "metadata": {
        "colab": {
          "base_uri": "https://localhost:8080/"
        },
        "id": "R4CUNKz9JhNQ",
        "outputId": "6c247b56-5c28-428b-9996-c2cd7c063391"
      },
      "execution_count": null,
      "outputs": [
        {
          "output_type": "stream",
          "name": "stdout",
          "text": [
            "\n",
            "\n",
            "begin training using onecycle policy with max lr of 0.0002...\n",
            "Epoch 1/3\n",
            "931/931 [==============================] - 545s 574ms/step - loss: 0.6619 - accuracy: 0.6033 - val_loss: 0.7364 - val_accuracy: 0.4767\n",
            "Epoch 2/3\n",
            "931/931 [==============================] - 531s 570ms/step - loss: 0.6988 - accuracy: 0.4940 - val_loss: 0.6932 - val_accuracy: 0.4767\n",
            "Epoch 3/3\n",
            "931/931 [==============================] - 531s 571ms/step - loss: 0.6940 - accuracy: 0.4981 - val_loss: 0.6923 - val_accuracy: 0.5233\n"
          ]
        },
        {
          "output_type": "execute_result",
          "data": {
            "text/plain": [
              "<keras.callbacks.History at 0x7f0f3e502440>"
            ]
          },
          "metadata": {},
          "execution_count": 40
        }
      ]
    },
    {
      "cell_type": "code",
      "source": [
        "predictor = ktrain.get_predictor(learner.model, preproc)"
      ],
      "metadata": {
        "id": "AfrqlRtMfwpH"
      },
      "execution_count": null,
      "outputs": []
    },
    {
      "cell_type": "code",
      "source": [
        "data = [ 'POLÍCIA FEDERAL JÁ TEM PROVAS suficientes para INDICIAR Jair Bolsonaro sobre registro e uso falso de atestado de vacina A Polícia Federal considera que, após tomar os principais depoimentos e colher provas, já tem elementos suficientes para INDICIAR o ex-presidente Jair Bolsonaro pelos crimes de inserção de dados falsos e uso de documentos falsos Típico dos covardes e comportamento genuíno bolsonarista, Jair já abandonou uma gama de pessoas que o apoiaram e depois foram presas ou perderam poder Ft: Guilherme Amado',\n",
        "        'O presidente da CPMI do 8 de janeiro, Arthur Maia (União-BA), explicou por que o senador Magno Malta (PL-ES) ganhou uma vaga na mesa diretora da comissão, e afirmou que a decisão ocorre para que haja \"credibilidade\"']"
      ],
      "metadata": {
        "id": "VNYXSp1yf019"
      },
      "execution_count": null,
      "outputs": []
    },
    {
      "cell_type": "code",
      "source": [
        "data = X_test"
      ],
      "metadata": {
        "id": "lVfnIXovPix_"
      },
      "execution_count": null,
      "outputs": []
    },
    {
      "cell_type": "code",
      "source": [
        "y_pred = predictor.predict(X_test)"
      ],
      "metadata": {
        "id": "D3K99vePj5YM"
      },
      "execution_count": null,
      "outputs": []
    },
    {
      "cell_type": "code",
      "source": [
        "y_pred[0], y_test[0]"
      ],
      "metadata": {
        "colab": {
          "base_uri": "https://localhost:8080/"
        },
        "id": "2OJpkIX8IXCp",
        "outputId": "c38a004a-fa3c-49eb-ee9d-1f3049a48761"
      },
      "execution_count": null,
      "outputs": [
        {
          "output_type": "execute_result",
          "data": {
            "text/plain": [
              "('fake', 1)"
            ]
          },
          "metadata": {},
          "execution_count": 45
        }
      ]
    },
    {
      "cell_type": "code",
      "source": [
        "correct = 0\n",
        "total = 0\n",
        "test_pred = []\n",
        "\n",
        "outputs = y_pred\n",
        "\n",
        "for i, output in enumerate(outputs):\n",
        "  total += 1\n",
        "  correct += int(output == 'fake') == y_test[i]\n",
        "  test_pred.append(int(output == 'fake'))\n",
        "\n",
        "print(f'Accuracy of the Fine Tuning on {total} tests: {100 * correct / total} %')\n",
        ""
      ],
      "metadata": {
        "colab": {
          "base_uri": "https://localhost:8080/"
        },
        "id": "ldp3HNjhLZx9",
        "outputId": "c97e4f70-2f4e-4b5a-a38b-58a4fa5982fc"
      },
      "execution_count": null,
      "outputs": [
        {
          "output_type": "stream",
          "name": "stdout",
          "text": [
            "Accuracy of the SVM on 3056 tests: 50.06544502617801 %\n"
          ]
        }
      ]
    }
  ]
}